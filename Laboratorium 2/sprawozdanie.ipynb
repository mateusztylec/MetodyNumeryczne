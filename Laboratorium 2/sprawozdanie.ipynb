{
 "cells": [
  {
   "cell_type": "markdown",
   "metadata": {
    "slideshow": {
     "slide_type": "notes"
    }
   },
   "source": [
    "# <center>Laboratorium 2<br>Metody Numeryczne</center>"
   ]
  },
  {
   "cell_type": "markdown",
   "metadata": {},
   "source": [
    "Biblioteki niezbędne do wykonania zadania:"
   ]
  },
  {
   "cell_type": "code",
   "execution_count": 1,
   "metadata": {},
   "outputs": [],
   "source": [
    "import main\n",
    "\n",
    "import numpy as np\n",
    "import scipy\n",
    "import matplotlib\n",
    "import matplotlib.pyplot as plt"
   ]
  },
  {
   "cell_type": "markdown",
   "metadata": {
    "tags": []
   },
   "source": [
    "***Zadanie 1.***  \n",
    "Zdefiniuj w notatniku funkcję $f(x)= x^{3} - 3x$ i sporządź jej wykres dla argumentów z przedziału:  \n",
    "1. $x\\in<-1,1>$  \n",
    "2. $x\\in<-5,5>$  \n",
    "3. $x\\in<0,5>$\n",
    "  \n",
    "***Wskazówki***\n",
    "Jako argumentu funkcji można użyć numpy array.  \n",
    "\n",
    "Do wizualizacji wyników w Pythonie używa się pakietu [Matplotlib](https://matplotlib.org/). Działanie tego pakietu prezentuje przykład:"
   ]
  },
  {
   "cell_type": "code",
   "execution_count": 2,
   "metadata": {},
   "outputs": [
    {
     "data": {
      "text/plain": "<Figure size 432x288 with 1 Axes>",
      "image/png": "[encoded data removed]"
     },
     "metadata": {
      "needs_background": "light"
     },
     "output_type": "display_data"
    }
   ],
   "source": [
    "x = np.linspace(-10,10)\n",
    "# inicjalizacja wektora f(x) = sin(x)\n",
    "y = np.sin(x)\n",
    "plt.plot(x, y, label ='sin(x)')\n",
    "plt.show()"
   ]
  },
  {
   "cell_type": "markdown",
   "metadata": {},
   "source": [
    "Wspierając się dokumentacją [Matplotlib](https://matplotlib.org/) dodaj do wykresu etykiety osi, tytuł, grida i legendę."
   ]
  },
  {
   "cell_type": "markdown",
   "metadata": {},
   "source": [
    "***Zadanie 2.***  \n",
    "Dla funkcji z zadania pierwszego używając wektora $x \\in <-10,10>$ wyrysuj wykres dla argumentów:\n",
    "1. $x\\in<-1,1>$  \n",
    "2. $x\\in<-10,-1>$  \n",
    "3. $x\\in<1,10>$\n",
    "\n",
    "Używając do tego funkcji: [ylim](https://matplotlib.org/3.3.1/api/_as_gen/matplotlib.pyplot.ylim.html), [xlim](https://matplotlib.org/3.3.2/api/_as_gen/matplotlib.pyplot.xlim.html), [axis](https://matplotlib.org/3.3.2/api/_as_gen/matplotlib.pyplot.axis.html)"
   ]
  },
  {
   "cell_type": "markdown",
   "metadata": {},
   "source": [
    "***Zadanie 3.*** \n",
    "Oblicz ilość ciepła, które wydzieli się podczas hamowania jeżeli opisuje je zależność:  \n",
    "  \n",
    "$Q = \\cfrac{mv^2}{2}$  \n",
    "  \n",
    "jeżeli $m = 2500g$, $v = 60km/h$, wypisz wynik oraz podaj w kilokaloriach i dżulach. Wykreśl wykresy które zobrazują zmianę ilości ciepła w procesie hamowania dla ciała o masie $3000g$ i prędkości $v\\in<200,0>km/h$, przedstawiając ciepło hamowania na pierwszym w skali liniowej na drugim w skali logarytmicznej.  \n",
    "\n",
    "***Wsakzówka:*** Do stworzenia wykresów z osią logarytmiczną skorzystaj z funkcji: [semilogy](https://matplotlib.org/api/_as_gen/matplotlib.pyplot.semilogy.html), [xlim](https://matplotlib.org/api/_as_gen/matplotlib.pyplot.xlim.html?highlight=xlim#matplotlib.pyplot.xlim) i [figure](https://matplotlib.org/api/_as_gen/matplotlib.pyplot.figure.html?highlight=figure#matplotlib.pyplot.figure) z pakietu *Matplotlib*. "
   ]
  },
  {
   "cell_type": "markdown",
   "metadata": {},
   "source": [
    "***Zadanie 4.***  \n",
    "Częstą praktyką szczególnie w dziedzinie analizy danych, statystyce, uczeniu maszynowym, itp. jest tworzenie na podstawie biblioteki [Matplotlib](https://matplotlib.org/) własnych szablonów wykresów stworzonych na podstawie funkcji. Najprostszy przykład to przeładowanie funkcji plot tak by wykres miał czerwony kolor:"
   ]
  },
  {
   "cell_type": "code",
   "execution_count": 3,
   "metadata": {},
   "outputs": [
    {
     "ename": "SyntaxError",
     "evalue": "invalid syntax (<ipython-input-3-4c8ea2cd27ab>, line 1)",
     "output_type": "error",
     "traceback": [
      "\u001B[1;36m  File \u001B[1;32m\"<ipython-input-3-4c8ea2cd27ab>\"\u001B[1;36m, line \u001B[1;32m1\u001B[0m\n\u001B[1;33m    w jednym oknie 2 wykresy\u001B[0m\n\u001B[1;37m      ^\u001B[0m\n\u001B[1;31mSyntaxError\u001B[0m\u001B[1;31m:\u001B[0m invalid syntax\n"
     ]
    }
   ],
   "source": [
    "w jednym oknie 2 wykresy"
   ]
  },
  {
   "cell_type": "code",
   "execution_count": null,
   "metadata": {
    "scrolled": true,
    "tags": []
   },
   "outputs": [],
   "source": [
    "def my_plot(x,y,xlabel,ylabel,title,label):\n",
    "    if x.shape != y.shape or  min(x.shape)==0:\n",
    "        return None\n",
    "    fig, ax = plt.subplots()\n",
    "    ax.plot(x, y, 'r', label=label)\n",
    "    ax.set(xlabel=xlabel, ylabel=ylabel, title=title)\n",
    "    ax.legend()\n",
    "    return fig\n",
    "\n",
    "x = np.linspace(-10,10)\n",
    "# inicjalizacja wektora f(x) = sin(x)\n",
    "y = np.sin(x)\n",
    "my_plot(x,y,'x','y','Funkcja sin', 'sin(x)')"
   ]
  },
  {
   "cell_type": "markdown",
   "metadata": {},
   "source": [
    "Zaimplementuj funkcję *compare\\_plot* w taki sposób by na jednym wykresie wyrysowane były dwie funkcje typu [plot](https://matplotlib.org/3.3.1/api/_as_gen/matplotlib.pyplot.plot.html#matplotlib.pyplot.plot). Pierwsza ma rysować się w kolorze niebieski i grubość lini ma wynosić 4, druga natomiast w kolorze czerwonym o grubości lini 2. Domyślnie ma być dodawana legenda. Dodatkowo użytkownik ma mieć możliwość ustawienia parametrów:\n",
    "- x1 - wektor wartości osi x dla pierwszego wykresu,\n",
    "- y1 - wektor wartości osi y dla pierwszego wykresu,\n",
    "- x2 - wektor wartości osi x dla drugiego wykresu,\n",
    "- y2 - wektor wartości osi x dla drugiego wykresu,\n",
    "- xlabel - opis osi x,\n",
    "- ylabel - opis osi y,\n",
    "- title - tytuł wykresu ,\n",
    "- label1 - nazwa serii z pierwszego wykresu,\n",
    "- label2 - nazwa serii z drugiego wykresu.\n",
    "\n",
    "Jeżeli nie da się wyrysować danych należy zwrócić wartość None."
   ]
  },
  {
   "cell_type": "markdown",
   "metadata": {},
   "source": [
    "** Zadanie 5 **  \n",
    "Za pomocą funkcji *compare\\_plot* rozwiąż graficznie równanie: $f(x) = g(x)$, gdzie:  \n",
    "$f(x) = x+2$  \n",
    "$g(x) = x^2 -2sin(x) + 3$"
   ]
  },
  {
   "cell_type": "markdown",
   "metadata": {},
   "source": [
    "***Zadanie 6.***   \n",
    "Innym przydatnym sposobem prezentowania wykresów jest [subplot](https://matplotlib.org/3.3.2/api/_as_gen/matplotlib.pyplot.subplot.html), czyli wyrysowanie obok siebie kilku wykresów. Zaimplementuj funkcję parallel_plot tak by obok siebie wyrysowane zostały dwa standardowe ploty i użytkownik mógł podać parametry:\n",
    "- x1 - wektor wartości osi x dla pierwszego wykresu,\n",
    "- y1 - wektor wartości osi y dla pierwszego wykresu,\n",
    "- x2 - wektor wartości osi x dla drugiego wykresu,\n",
    "- y2 - wektor wartości osi x dla drugiego wykresu,\n",
    "- x1label - opis osi x dla pierwszego wykresu,\n",
    "- y1label - opis osi y dla pierwszego wykresu,\n",
    "- x2label - opis osi x dla drugiego wykresu,\n",
    "- y2label - opis osi y dla drugiego wykresu,\n",
    "- title - tytuł wykresu,\n",
    "- orientation - parametr przyjmujący wartość '-' jeżeli subplot ma posiadać dwa wiersze albo '|' jeżeli ma posiadać dwie kolumny.\n",
    "\n",
    "Jeżeli nie da się wyrysować danych należy zwrócić wartość None.\n",
    "\n",
    " "
   ]
  },
  {
   "cell_type": "markdown",
   "metadata": {},
   "source": [
    "***Zadanie 7.***  \n",
    "Za pomocą funkcji *parallel\\_plot*  i przedstaw na jednym z nich [Spirale logarytmiczną](https://pl.wikipedia.org/wiki/Spirala_logarytmiczna) w szerokim przedziale, a w drugim w okolicy zera."
   ]
  },
  {
   "cell_type": "markdown",
   "metadata": {},
   "source": [
    "***Zadanie 8.***  \n",
    "Zaimplementuj funkcję *log\\_plot* która będzie tworzyć wykres w skalach logaritmicznych. Skale logarytmiczne mają być ustawione zgodnie z parameterem *log\\_axis* gdzie wartość:\n",
    "- 'x' oznacza skale logarytmiczną na osi x,\n",
    "- 'y' oznacza skale logarytmiczną na osi y,\n",
    "- 'xy' oznacza skale logarytmiczną na obu osiach.\n",
    "\n",
    "Dodatkowo użytkownik ma mieć możliwość ustawienia parametrów:\n",
    "- x - wektor wartości osi x,\n",
    "- y - wektor wartości osi y,\n",
    "- xlabel - opis osi x,\n",
    "- ylabel - opis osi y,\n",
    "- title - tytuł wykresu."
   ]
  },
  {
   "cell_type": "markdown",
   "metadata": {},
   "source": [
    "**Zadanie 9.**  \n",
    "Przy pomocy funkcji *log\\_plot* przedstaw różne warianty funkcji z zadania 3."
   ]
  },
  {
   "cell_type": "markdown",
   "metadata": {},
   "source": [
    "\n",
    "Materiały uzupełniające:\n",
    "- [Scipy Lecture Notes](http://www.scipy-lectures.org/index.html)\n",
    "- [NumPy for Matlab users](https://docs.scipy.org/doc/numpy/user/numpy-for-matlab-users.html#numpy-for-matlab-users)\n",
    "- [Python Tutorial - W3Schools](https://www.w3schools.com/python/default.asp)\n",
    "- [NumPy](https://www.numpy.org)\n",
    "- [Matplotlib](https://matplotlib.org/)\n",
    "- [Anaconda](https://www.anaconda.com/)\n",
    "- [Learn Python for Data Science](https://www.datacamp.com/learn-python-with-anaconda?utm_source=Anaconda_download&utm_campaign=datacamp_training&utm_medium=banner)\n",
    "- [Learn Python](https://www.learnpython.org/)\n",
    "- [Wujek Google](https://google.pl) i [Ciocia Wikipedia](https://pl.wikipedia.org/wiki/Wikipedia:Strona_g%C5%82%C3%B3wna)"
   ]
  },
  {
   "cell_type": "code",
   "execution_count": null,
   "metadata": {},
   "outputs": [],
   "source": []
  },
  {
   "cell_type": "code",
   "execution_count": null,
   "metadata": {},
   "outputs": [],
   "source": [
    "WNIOSKI:"
   ]
  }
 ],
 "metadata": {
  "celltoolbar": "Raw Cell Format",
  "kernelspec": {
   "display_name": "Python 3 (ipykernel)",
   "language": "python",
   "name": "python3"
  },
  "language_info": {
   "codemirror_mode": {
    "name": "ipython",
    "version": 3
   },
   "file_extension": ".py",
   "mimetype": "text/x-python",
   "name": "python",
   "nbconvert_exporter": "python",
   "pygments_lexer": "ipython3",
   "version": "3.9.6"
  }
 },
 "nbformat": 4,
 "nbformat_minor": 2
}